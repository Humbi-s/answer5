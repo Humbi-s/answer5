{
  "nbformat": 4,
  "nbformat_minor": 0,
  "metadata": {
    "colab": {
      "provenance": []
    },
    "kernelspec": {
      "name": "python3",
      "display_name": "Python 3"
    },
    "language_info": {
      "name": "python"
    }
  },
  "cells": [
    {
      "cell_type": "code",
      "execution_count": 1,
      "metadata": {
        "id": "4yHzmAsjbmwK"
      },
      "outputs": [],
      "source": [
        "# calculate the area of the rectangle\n",
        "\n"
      ]
    },
    {
      "cell_type": "code",
      "source": [
        "length=float(input(\"Enter the length of rectangle: \"))\n",
        "\n",
        "width=float(input(\"Enter the width of rectangle: \"))\n",
        "\n",
        "area=length*width\n",
        "\n",
        "print(\"The area of the rectangle is:\",area)\n"
      ],
      "metadata": {
        "colab": {
          "base_uri": "https://localhost:8080/"
        },
        "id": "8Oa6sud0b3bc",
        "outputId": "a204156b-808f-4b83-abb6-cadf45e72db0"
      },
      "execution_count": 2,
      "outputs": [
        {
          "output_type": "stream",
          "name": "stdout",
          "text": [
            "Enter the length of rectangle: 10\n",
            "Enter the width of rectangle: 15\n",
            "The area of the rectangle is: 150.0\n"
          ]
        }
      ]
    }
  ]
}