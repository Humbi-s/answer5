{
  "nbformat": 4,
  "nbformat_minor": 0,
  "metadata": {
    "colab": {
      "provenance": []
    },
    "kernelspec": {
      "name": "python3",
      "display_name": "Python 3"
    },
    "language_info": {
      "name": "python"
    }
  },
  "cells": [
    {
      "cell_type": "code",
      "execution_count": 3,
      "metadata": {
        "id": "LXWwZteXPhmY"
      },
      "outputs": [],
      "source": [
        "# takes a sentence from the user and counts the number of vowels in the string"
      ]
    },
    {
      "cell_type": "code",
      "source": [
        "sentence = input(\"Enter a sentence: \")\n",
        "\n",
        "vowel_count = 0\n",
        "\n",
        "for char in sentence:\n",
        "\n",
        "    char_lower = char.lower()\n",
        "\n",
        "    if char_lower in \"aeiou\":\n",
        "\n",
        "        vowel_count += 1\n",
        "\n",
        "\n",
        "print(\"Number of vowels: \",vowel_count)\n",
        "\n"
      ],
      "metadata": {
        "colab": {
          "base_uri": "https://localhost:8080/"
        },
        "id": "eZNnkMNEQLbN",
        "outputId": "34281915-c775-48b3-ec8b-bf908e9d483e"
      },
      "execution_count": 8,
      "outputs": [
        {
          "output_type": "stream",
          "name": "stdout",
          "text": [
            "Enter a sentence: hello world good morning\n",
            "Number of vowels:  7\n"
          ]
        }
      ]
    },
    {
      "cell_type": "code",
      "source": [],
      "metadata": {
        "id": "dv9Dr4tsSoYY"
      },
      "execution_count": null,
      "outputs": []
    }
  ]
}