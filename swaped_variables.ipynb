{
  "nbformat": 4,
  "nbformat_minor": 0,
  "metadata": {
    "colab": {
      "provenance": []
    },
    "kernelspec": {
      "name": "python3",
      "display_name": "Python 3"
    },
    "language_info": {
      "name": "python"
    }
  },
  "cells": [
    {
      "cell_type": "code",
      "execution_count": 1,
      "metadata": {
        "id": "eUePMfV1gfgN"
      },
      "outputs": [],
      "source": [
        "# swap the values of variables without using temporary variable"
      ]
    },
    {
      "cell_type": "code",
      "source": [
        "x=10\n",
        "y=5\n",
        "\n",
        "def swap_variables(x,y):\n",
        "  print(f\"Before swap x: {x} and y: {y}\")\n",
        "\n",
        "  x,y=y,x\n",
        "\n",
        "  print(f\"After swap  x: {x} and y: {y}\")\n",
        "\n",
        "swap_variables(x,y)"
      ],
      "metadata": {
        "colab": {
          "base_uri": "https://localhost:8080/"
        },
        "id": "WrvHvZb5g2FX",
        "outputId": "506ce8fd-effb-4ccd-ce56-ce280968661b"
      },
      "execution_count": 2,
      "outputs": [
        {
          "output_type": "stream",
          "name": "stdout",
          "text": [
            "Before swap x: 10 and y: 5\n",
            "After swap  x: 5 and y: 10\n"
          ]
        }
      ]
    }
  ]
}