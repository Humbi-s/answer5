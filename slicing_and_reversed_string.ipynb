{
  "nbformat": 4,
  "nbformat_minor": 0,
  "metadata": {
    "colab": {
      "provenance": []
    },
    "kernelspec": {
      "name": "python3",
      "display_name": "Python 3"
    },
    "language_info": {
      "name": "python"
    }
  },
  "cells": [
    {
      "cell_type": "code",
      "execution_count": null,
      "metadata": {
        "id": "g5xqtTDGVDq6"
      },
      "outputs": [],
      "source": [
        "# reverse the order of characters using string slicing and print the reversed string."
      ]
    },
    {
      "cell_type": "code",
      "source": [
        "input_string = input(\"Enter a string\")\n",
        "\n",
        "reversed_string = input_string[::-1]\n",
        "\n",
        "print(\"Reversed string:\" ,reversed_string)"
      ],
      "metadata": {
        "colab": {
          "base_uri": "https://localhost:8080/"
        },
        "id": "wSnuitrOV2e1",
        "outputId": "1c71c841-e3f5-4aea-ee77-b6dbc3625c64"
      },
      "execution_count": 1,
      "outputs": [
        {
          "output_type": "stream",
          "name": "stdout",
          "text": [
            "Enter a stringhello\n",
            "Reversed string: olleh\n"
          ]
        }
      ]
    },
    {
      "cell_type": "code",
      "source": [],
      "metadata": {
        "id": "zjTrLNCoXI4N"
      },
      "execution_count": null,
      "outputs": []
    }
  ]
}