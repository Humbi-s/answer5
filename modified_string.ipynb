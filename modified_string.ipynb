{
  "nbformat": 4,
  "nbformat_minor": 0,
  "metadata": {
    "colab": {
      "provenance": []
    },
    "kernelspec": {
      "name": "python3",
      "display_name": "Python 3"
    },
    "language_info": {
      "name": "python"
    }
  },
  "cells": [
    {
      "cell_type": "code",
      "execution_count": 1,
      "metadata": {
        "id": "QPqNia58YP21"
      },
      "outputs": [],
      "source": [
        "# takes a string as inut removes all the spaces from it.print the modified string without spaces"
      ]
    },
    {
      "cell_type": "code",
      "source": [
        "input_string = input(\"Enter a string: \")\n",
        "\n",
        "modified_string = \"\"\n",
        "\n",
        "for char in input_string:\n",
        "\n",
        "    if char != \" \":\n",
        "\n",
        "        modified_string += char\n",
        "\n",
        "print(\"Modified string without spaces\",modified_string)"
      ],
      "metadata": {
        "colab": {
          "base_uri": "https://localhost:8080/"
        },
        "id": "P20Jne7AZH4b",
        "outputId": "ef6fadc6-c3b2-4729-e436-5d57e835dc9c"
      },
      "execution_count": 3,
      "outputs": [
        {
          "output_type": "stream",
          "name": "stdout",
          "text": [
            "Enter a string: hello\n",
            "Modified string without spaces hello\n"
          ]
        }
      ]
    },
    {
      "cell_type": "code",
      "source": [],
      "metadata": {
        "id": "mYKoCpqGaV_z"
      },
      "execution_count": null,
      "outputs": []
    }
  ]
}