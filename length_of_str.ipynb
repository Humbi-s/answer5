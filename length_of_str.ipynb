{
  "nbformat": 4,
  "nbformat_minor": 0,
  "metadata": {
    "colab": {
      "provenance": []
    },
    "kernelspec": {
      "name": "python3",
      "display_name": "Python 3"
    },
    "language_info": {
      "name": "python"
    }
  },
  "cells": [
    {
      "cell_type": "code",
      "execution_count": 1,
      "metadata": {
        "id": "xElXI0g8NYgv"
      },
      "outputs": [],
      "source": [
        "# takes a string as input and prints the length of the string"
      ]
    },
    {
      "cell_type": "code",
      "source": [
        "input_string = input(\"Enter a string: \")\n",
        "\n",
        "string_length = len(input_string)\n",
        "\n",
        "print(\" The length of the input string is: \" ,string_length)"
      ],
      "metadata": {
        "colab": {
          "base_uri": "https://localhost:8080/"
        },
        "id": "c-Dcsv_3N64S",
        "outputId": "107b7102-6197-454c-8801-112c53ca0557"
      },
      "execution_count": 2,
      "outputs": [
        {
          "output_type": "stream",
          "name": "stdout",
          "text": [
            "Enter a string: mohit\n",
            " The length of the input string is:  5\n"
          ]
        }
      ]
    },
    {
      "cell_type": "code",
      "source": [],
      "metadata": {
        "id": "wosp_R5zPKqS"
      },
      "execution_count": null,
      "outputs": []
    }
  ]
}