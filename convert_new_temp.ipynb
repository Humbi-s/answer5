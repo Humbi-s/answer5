{
  "nbformat": 4,
  "nbformat_minor": 0,
  "metadata": {
    "colab": {
      "provenance": []
    },
    "kernelspec": {
      "name": "python3",
      "display_name": "Python 3"
    },
    "language_info": {
      "name": "python"
    }
  },
  "cells": [
    {
      "cell_type": "code",
      "execution_count": 1,
      "metadata": {
        "id": "KLVwfSKsehti"
      },
      "outputs": [],
      "source": [
        "# convert temperature celsius to fehrenheit"
      ]
    },
    {
      "cell_type": "code",
      "source": [
        "celsius_temperature = float(input(\"Enter the temperature in celsius: \"))\n",
        "\n",
        "fehrenheit_temperature = float(celsius_temperature * 9/5)+32\n",
        "\n",
        "print(f\"{celsius_temperature} Celsius is equal to {fehrenheit_temperature:.2f} Fehrenheit\")"
      ],
      "metadata": {
        "colab": {
          "base_uri": "https://localhost:8080/"
        },
        "id": "2qbXc9uWfHsF",
        "outputId": "cbbcc121-82c6-45e5-92ba-a99a27aa7d7a"
      },
      "execution_count": 2,
      "outputs": [
        {
          "output_type": "stream",
          "name": "stdout",
          "text": [
            "Enter the temperature in celsius: 20.0\n",
            "20.0 Celsius is equal to 68.00 Fehrenheit\n"
          ]
        }
      ]
    }
  ]
}